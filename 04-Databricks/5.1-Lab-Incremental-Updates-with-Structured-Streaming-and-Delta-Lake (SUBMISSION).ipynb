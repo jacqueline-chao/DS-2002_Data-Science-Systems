{
 "cells": [
  {
   "cell_type": "markdown",
   "metadata": {
    "application/vnd.databricks.v1+cell": {
     "cellMetadata": {
      "byteLimit": 2048000,
      "rowLimit": 10000
     },
     "inputWidgets": {},
     "nuid": "42af51fd-bef4-47ca-bb96-53e5e488f554",
     "showTitle": false,
     "title": ""
    }
   },
   "source": [
    "### Processing Incremental Updates with Structured Streaming and Delta Lake\n",
    "In this lab you'll apply your knowledge of structured streaming and Auto Loader to implement a simple multi-hop architecture.\n",
    "\n",
    "#### 1.0. Import Shared Utilities and Data Files\n",
    "Run the following cell to setup necessary variables and clear out past runs of this notebook. Note that re-executing this cell will allow you to start the lab over."
   ]
  },
  {
   "cell_type": "code",
   "execution_count": 0,
   "metadata": {
    "application/vnd.databricks.v1+cell": {
     "cellMetadata": {
      "byteLimit": 2048000,
      "rowLimit": 10000
     },
     "inputWidgets": {},
     "nuid": "9f02d4ec-6520-4906-bd69-9cd120265130",
     "showTitle": false,
     "title": ""
    }
   },
   "outputs": [
    {
     "output_type": "stream",
     "name": "stdout",
     "output_type": "stream",
     "text": [
      "Dropping the database \"dbacademy_jc7rw_virginia_edu_dewd_5_1\"\nRemoving the working directory \"dbfs:/user/jc7rw@virginia.edu/dbacademy/dewd/5.1\"\n\nCreating the database \"dbacademy_jc7rw_virginia_edu_dewd_5_1\"\n\nPredefined Paths:\n  DA.paths.working_dir: dbfs:/user/jc7rw@virginia.edu/dbacademy/dewd/5.1\n  DA.paths.user_db:     dbfs:/user/jc7rw@virginia.edu/dbacademy/dewd/5.1/5_1.db\n  DA.paths.checkpoints: dbfs:/user/jc7rw@virginia.edu/dbacademy/dewd/5.1/_checkpoints\n\nPredefined tables in dbacademy_jc7rw_virginia_edu_dewd_5_1:\n  -none-\n\nSetup completed in 8 seconds\n"
     ]
    }
   ],
   "source": [
    "%run ./Includes/5.1-Lab-setup"
   ]
  },
  {
   "cell_type": "markdown",
   "metadata": {
    "application/vnd.databricks.v1+cell": {
     "cellMetadata": {
      "byteLimit": 2048000,
      "rowLimit": 10000
     },
     "inputWidgets": {},
     "nuid": "431e528d-711c-4144-9ed2-5875a0de7f24",
     "showTitle": false,
     "title": ""
    }
   },
   "source": [
    "\n",
    "#### 2.0. Bronze Table: Ingest data\n",
    "This lab uses a collection of customer-related CSV data from DBFS found in */databricks-datasets/retail-org/customers/*.  Read this data using Auto Loader using its schema inference (use **`customersCheckpointPath`** to store the schema info). Stream the raw data to a Delta table called **`bronze`**."
   ]
  },
  {
   "cell_type": "code",
   "execution_count": 0,
   "metadata": {
    "application/vnd.databricks.v1+cell": {
     "cellMetadata": {
      "byteLimit": 2048000,
      "rowLimit": 10000
     },
     "inputWidgets": {},
     "nuid": "176594fc-08a2-4dde-b02f-095098cabd42",
     "showTitle": false,
     "title": ""
    }
   },
   "outputs": [],
   "source": [
    "# TODO 1:\n",
    "# def autoload_to_table(data_source, source_format, table_name, checkpoint_directory):\n",
    "#     query = (spark.readStream\n",
    "#                   .format(\"cloudFiles\")\n",
    "#                   .option(\"cloudFiles.format\", source_format)\n",
    "#                   .option(\"cloudFiles.inferColumnTypes\", \"true\")\n",
    "#                   .option(\"multiLine\", \"true\")\n",
    "#                   .option(\"cloudFiles.schemaLocation\", checkpoint_directory)\n",
    "#                   .load(data_source)\n",
    "#                   .writeStream\n",
    "#                   .option(\"checkpointLocation\", checkpoint_directory)\n",
    "#                   .option(\"mergeSchema\", \"true\")\n",
    "#                   .table(table_name))\n",
    "#     return query\n",
    "\n",
    "# data_source = '/databricks-datasets/retail-org/customers/'\n",
    "# source_format = 'csv'\n",
    "# table_name = 'bronze'\n",
    "# checkpoint_directory = f'{DA.paths.checkpoints}/customers'\n",
    "# query = autoload_to_table(data_source, source_format, table_name, checkpoint_directory)\n",
    "\n",
    "data_source = '/databricks-datasets/retail-org/customers/'\n",
    "source_format = 'csv'\n",
    "checkpoint_directory = f'{DA.paths.checkpoints}/customers'\n",
    "query = (spark.readStream\n",
    "         .format('cloudFiles')\n",
    "         .option('cloudFiles.format', source_format)\n",
    "         .option('cloudFiles.schemaLocation', checkpoint_directory)\n",
    "         .load(data_source)\n",
    "         .writeStream\n",
    "         .format('delta')\n",
    "         .option('checkpointLocation', checkpoint_directory)\n",
    "         .outputMode('append')\n",
    "         .table('bronze')\n",
    "        )"
   ]
  },
  {
   "cell_type": "code",
   "execution_count": 0,
   "metadata": {
    "application/vnd.databricks.v1+cell": {
     "cellMetadata": {
      "byteLimit": 2048000,
      "rowLimit": 10000
     },
     "inputWidgets": {},
     "nuid": "e992ca75-1679-4b11-aab8-369b3bc5b7ea",
     "showTitle": false,
     "title": ""
    }
   },
   "outputs": [
    {
     "output_type": "stream",
     "name": "stdout",
     "output_type": "stream",
     "text": [
      "The stream has processed 2 batchs\n"
     ]
    }
   ],
   "source": [
    "# def block_until_stream_is_ready(query, min_batches=2):\n",
    "#     import time\n",
    "#     while len(query.recentProgress) < min_batches:\n",
    "#         time.sleep(5) # Give it a couple of seconds\n",
    "\n",
    "#     print(f\"The stream has processed {len(query.recentProgress)} batchs\")\n",
    "\n",
    "# block_until_stream_is_ready(query)\n",
    "\n",
    "DA.block_until_stream_is_ready(query)"
   ]
  },
  {
   "cell_type": "markdown",
   "metadata": {
    "application/vnd.databricks.v1+cell": {
     "cellMetadata": {
      "byteLimit": 2048000,
      "rowLimit": 10000
     },
     "inputWidgets": {},
     "nuid": "60a19272-7a96-48f1-821a-3f97df06303e",
     "showTitle": false,
     "title": ""
    }
   },
   "source": [
    "##### 2.1. Create a Streaming Temporary View\n",
    "Create a streaming temporary view into the bronze table so that we can perform transformations using SQL."
   ]
  },
  {
   "cell_type": "code",
   "execution_count": 0,
   "metadata": {
    "application/vnd.databricks.v1+cell": {
     "cellMetadata": {
      "byteLimit": 2048000,
      "rowLimit": 10000
     },
     "inputWidgets": {},
     "nuid": "03be6ed8-4bad-46b9-bb8b-bbb6a33c2f7a",
     "showTitle": false,
     "title": ""
    }
   },
   "outputs": [],
   "source": [
    "(spark\n",
    "  .readStream\n",
    "  .table(\"bronze\")\n",
    "  .createOrReplaceTempView(\"bronze_temp\"))"
   ]
  },
  {
   "cell_type": "markdown",
   "metadata": {
    "application/vnd.databricks.v1+cell": {
     "cellMetadata": {
      "byteLimit": 2048000,
      "rowLimit": 10000
     },
     "inputWidgets": {},
     "nuid": "65e84cd0-c27e-4eb8-9bb5-d205b0894b17",
     "showTitle": false,
     "title": ""
    }
   },
   "source": [
    "##### 2.2. Clean and Enhance the Data\n",
    "Use the CTAS syntax to define a new streaming view called **`bronze_enhanced_temp`** that does the following:\n",
    "* Skips records with a null **`postcode`** (set to zero)\n",
    "* Inserts a column called **`receipt_time`** containing a current timestamp\n",
    "* Inserts a column called **`source_file`** containing the input filename"
   ]
  },
  {
   "cell_type": "code",
   "execution_count": 0,
   "metadata": {
    "application/vnd.databricks.v1+cell": {
     "cellMetadata": {
      "byteLimit": 2048000,
      "implicitDf": true,
      "rowLimit": 10000
     },
     "inputWidgets": {},
     "nuid": "fcd64fdd-9b5d-45bc-b641-b4162ceacb63",
     "showTitle": false,
     "title": ""
    }
   },
   "outputs": [
    {
     "output_type": "display_data",
     "data": {
      "text/html": [
       "<style scoped>\n",
       "  .table-result-container {\n",
       "    max-height: 300px;\n",
       "    overflow: auto;\n",
       "  }\n",
       "  table, th, td {\n",
       "    border: 1px solid black;\n",
       "    border-collapse: collapse;\n",
       "  }\n",
       "  th, td {\n",
       "    padding: 5px;\n",
       "  }\n",
       "  th {\n",
       "    text-align: left;\n",
       "  }\n",
       "</style><div class='table-result-container'><table class='table-result'><thead style='background-color: white'><tr></tr></thead><tbody></tbody></table></div>"
      ]
     },
     "metadata": {
      "application/vnd.databricks.v1+output": {
       "addedWidgets": {},
       "aggData": [],
       "aggError": "",
       "aggOverflow": false,
       "aggSchema": [],
       "aggSeriesLimitReached": false,
       "aggType": "",
       "arguments": {},
       "columnCustomDisplayInfos": {},
       "data": [],
       "datasetInfos": [],
       "dbfsResultPath": null,
       "isJsonSchema": true,
       "metadata": {},
       "overflow": false,
       "plotOptions": {
        "customPlotOptions": {},
        "displayType": "table",
        "pivotAggregation": null,
        "pivotColumns": null,
        "xColumns": null,
        "yColumns": null
       },
       "removedWidgets": [],
       "schema": [],
       "type": "table"
      }
     },
     "output_type": "display_data"
    }
   ],
   "source": [
    "%sql\n",
    "-- TODO 2:\n",
    "-- SELECT * FROM bronze_temp\n",
    "-- DESCRIBE EXTENDED bronze_temp -- 20 rows\n",
    "-- SHOW TABLES\n",
    "\n",
    "CREATE OR REPLACE TEMP VIEW bronze_enhanced_temp AS (\n",
    "  SELECT *, current_timestamp() receipt_time, input_file_name() source_file\n",
    "  FROM bronze_temp\n",
    "  WHERE postcode != '0'\n",
    ")\n",
    "\n",
    "-- SELECT * FROM bronze_enhanced_temp\n",
    "-- DESCRIBE EXTENDED bronze_enhanced_temp -- 22 rows\n",
    "\n",
    "-- CREATE OR REPLACE TEMPORARY VIEW bronze_enchanced_temp AS\n",
    "-- SELECT *, current_timestamp() receipt_time, input_file_name() source_file\n",
    "-- FROM bronze_temp\n",
    "-- WHERE postcode > 0"
   ]
  },
  {
   "cell_type": "markdown",
   "metadata": {
    "application/vnd.databricks.v1+cell": {
     "cellMetadata": {
      "byteLimit": 2048000,
      "rowLimit": 10000
     },
     "inputWidgets": {},
     "nuid": "b00d377b-c499-4c5d-b72d-f3a992c8fc6f",
     "showTitle": false,
     "title": ""
    }
   },
   "source": [
    "#### 3.0. Silver Table\n",
    "Stream the data from **`bronze_enhanced_temp`** to a table called **`silver`**."
   ]
  },
  {
   "cell_type": "code",
   "execution_count": 0,
   "metadata": {
    "application/vnd.databricks.v1+cell": {
     "cellMetadata": {
      "byteLimit": 2048000,
      "rowLimit": 10000
     },
     "inputWidgets": {},
     "nuid": "ac90bbf8-c569-48ed-aa6f-59c6de0ffa42",
     "showTitle": false,
     "title": ""
    }
   },
   "outputs": [],
   "source": [
    "# TODO 3:\n",
    "# table_name = 'silver'\n",
    "# checkpoint_directory = f'{DA.paths.checkpoints}/silver'\n",
    "# query = autoload_to_table(data_source, source_format, table_name, checkpoint_directory)\n",
    "\n",
    "checkpoint_directory_silver = f'{DA.paths.checkpoints}/silver'\n",
    "query_silver = (spark.table('bronze_enhanced_temp')\n",
    "         .writeStream.format('delta')\n",
    "         .option('checkpointLocation', checkpoint_directory_silver)\n",
    "         .outputMode('append')\n",
    "         .table('silver')\n",
    "        )"
   ]
  },
  {
   "cell_type": "code",
   "execution_count": 0,
   "metadata": {
    "application/vnd.databricks.v1+cell": {
     "cellMetadata": {
      "byteLimit": 2048000,
      "rowLimit": 10000
     },
     "inputWidgets": {},
     "nuid": "269439ac-61dd-49ea-ae1a-e7fe22eb14b5",
     "showTitle": false,
     "title": ""
    }
   },
   "outputs": [
    {
     "output_type": "stream",
     "name": "stdout",
     "output_type": "stream",
     "text": [
      "The stream has processed 2 batchs\n"
     ]
    }
   ],
   "source": [
    "DA.block_until_stream_is_ready(query_silver)"
   ]
  },
  {
   "cell_type": "markdown",
   "metadata": {
    "application/vnd.databricks.v1+cell": {
     "cellMetadata": {
      "byteLimit": 2048000,
      "rowLimit": 10000
     },
     "inputWidgets": {},
     "nuid": "3db953ec-fbad-49f4-b4bf-2b2e87b7f102",
     "showTitle": false,
     "title": ""
    }
   },
   "source": [
    "##### 3.1. Create a Streaming Temporary View\n",
    "Create another streaming temporary view for the silver table so that we can perform business-level queries using SQL."
   ]
  },
  {
   "cell_type": "code",
   "execution_count": 0,
   "metadata": {
    "application/vnd.databricks.v1+cell": {
     "cellMetadata": {
      "byteLimit": 2048000,
      "rowLimit": 10000
     },
     "inputWidgets": {},
     "nuid": "29fb7ae0-3cc4-4fdc-a39c-436888567478",
     "showTitle": false,
     "title": ""
    }
   },
   "outputs": [],
   "source": [
    "(spark\n",
    "  .readStream\n",
    "  .table(\"silver\")\n",
    "  .createOrReplaceTempView(\"silver_temp\"))"
   ]
  },
  {
   "cell_type": "markdown",
   "metadata": {
    "application/vnd.databricks.v1+cell": {
     "cellMetadata": {
      "byteLimit": 2048000,
      "rowLimit": 10000
     },
     "inputWidgets": {},
     "nuid": "5f627fdb-0801-466a-b551-cbb2475db2b9",
     "showTitle": false,
     "title": ""
    }
   },
   "source": [
    "\n",
    "#### 4.0. Gold Table\n",
    "Use the CTAS syntax to define a new streaming view called **`customer_count_temp`** that counts customers per state."
   ]
  },
  {
   "cell_type": "code",
   "execution_count": 0,
   "metadata": {
    "application/vnd.databricks.v1+cell": {
     "cellMetadata": {
      "byteLimit": 2048000,
      "implicitDf": true,
      "rowLimit": 10000
     },
     "inputWidgets": {},
     "nuid": "ae488156-8f83-4687-85c9-9ad0634d3070",
     "showTitle": false,
     "title": ""
    }
   },
   "outputs": [
    {
     "output_type": "display_data",
     "data": {
      "text/html": [
       "<style scoped>\n",
       "  .table-result-container {\n",
       "    max-height: 300px;\n",
       "    overflow: auto;\n",
       "  }\n",
       "  table, th, td {\n",
       "    border: 1px solid black;\n",
       "    border-collapse: collapse;\n",
       "  }\n",
       "  th, td {\n",
       "    padding: 5px;\n",
       "  }\n",
       "  th {\n",
       "    text-align: left;\n",
       "  }\n",
       "</style><div class='table-result-container'><table class='table-result'><thead style='background-color: white'><tr></tr></thead><tbody></tbody></table></div>"
      ]
     },
     "metadata": {
      "application/vnd.databricks.v1+output": {
       "addedWidgets": {},
       "aggData": [],
       "aggError": "",
       "aggOverflow": false,
       "aggSchema": [],
       "aggSeriesLimitReached": false,
       "aggType": "",
       "arguments": {},
       "columnCustomDisplayInfos": {},
       "data": [],
       "datasetInfos": [],
       "dbfsResultPath": null,
       "isJsonSchema": true,
       "metadata": {},
       "overflow": false,
       "plotOptions": {
        "customPlotOptions": {},
        "displayType": "table",
        "pivotAggregation": null,
        "pivotColumns": null,
        "xColumns": null,
        "yColumns": null
       },
       "removedWidgets": [],
       "schema": [],
       "type": "table"
      }
     },
     "output_type": "display_data"
    }
   ],
   "source": [
    "%sql\n",
    "-- TODO 4:\n",
    "-- DESCRIBE EXTENDED silver\n",
    "\n",
    "CREATE OR REPLACE TEMP VIEW customer_count_temp AS (\n",
    "  SELECT state, COUNT(*) as customer_count\n",
    "  FROM silver_temp\n",
    "  GROUP BY state\n",
    ")\n",
    "\n",
    "-- SHOW TABLES"
   ]
  },
  {
   "cell_type": "code",
   "execution_count": 0,
   "metadata": {
    "application/vnd.databricks.v1+cell": {
     "cellMetadata": {
      "byteLimit": 2048000,
      "implicitDf": true,
      "rowLimit": 10000
     },
     "inputWidgets": {},
     "nuid": "8cd78532-0690-4232-b7fd-6daca3c53c5c",
     "showTitle": false,
     "title": ""
    }
   },
   "outputs": [
    {
     "output_type": "display_data",
     "data": {
      "text/html": [
       "<style scoped>\n",
       "  .table-result-container {\n",
       "    max-height: 300px;\n",
       "    overflow: auto;\n",
       "  }\n",
       "  table, th, td {\n",
       "    border: 1px solid black;\n",
       "    border-collapse: collapse;\n",
       "  }\n",
       "  th, td {\n",
       "    padding: 5px;\n",
       "  }\n",
       "  th {\n",
       "    text-align: left;\n",
       "  }\n",
       "</style><div class='table-result-container'><table class='table-result'><thead style='background-color: white'><tr><th>col_name</th><th>data_type</th><th>comment</th></tr></thead><tbody><tr><td>state</td><td>string</td><td>null</td></tr><tr><td>customer_count</td><td>bigint</td><td>null</td></tr></tbody></table></div>"
      ]
     },
     "metadata": {
      "application/vnd.databricks.v1+output": {
       "addedWidgets": {},
       "aggData": [],
       "aggError": "",
       "aggOverflow": false,
       "aggSchema": [],
       "aggSeriesLimitReached": false,
       "aggType": "",
       "arguments": {},
       "columnCustomDisplayInfos": {},
       "data": [
        [
         "state",
         "string",
         null
        ],
        [
         "customer_count",
         "bigint",
         null
        ]
       ],
       "datasetInfos": [],
       "dbfsResultPath": null,
       "isJsonSchema": true,
       "metadata": {},
       "overflow": false,
       "plotOptions": {
        "customPlotOptions": {},
        "displayType": "table",
        "pivotAggregation": null,
        "pivotColumns": null,
        "xColumns": null,
        "yColumns": null
       },
       "removedWidgets": [],
       "schema": [
        {
         "metadata": "{\"comment\":\"name of the column\"}",
         "name": "col_name",
         "type": "\"string\""
        },
        {
         "metadata": "{\"comment\":\"data type of the column\"}",
         "name": "data_type",
         "type": "\"string\""
        },
        {
         "metadata": "{\"comment\":\"comment of the column\"}",
         "name": "comment",
         "type": "\"string\""
        }
       ],
       "type": "table"
      }
     },
     "output_type": "display_data"
    }
   ],
   "source": [
    "%sql\n",
    "DESCRIBE EXTENDED customer_count_temp"
   ]
  },
  {
   "cell_type": "markdown",
   "metadata": {
    "application/vnd.databricks.v1+cell": {
     "cellMetadata": {
      "byteLimit": 2048000,
      "rowLimit": 10000
     },
     "inputWidgets": {},
     "nuid": "0d74549f-2c3a-4e8f-b09d-b3f9d884e1c9",
     "showTitle": false,
     "title": ""
    }
   },
   "source": [
    "Finally, stream the data from the **`customer_count_by_state_temp`** view to a Delta table called **`gold_customer_count_by_state`**."
   ]
  },
  {
   "cell_type": "code",
   "execution_count": 0,
   "metadata": {
    "application/vnd.databricks.v1+cell": {
     "cellMetadata": {
      "byteLimit": 2048000,
      "rowLimit": 10000
     },
     "inputWidgets": {},
     "nuid": "93c5d8a0-882d-4657-a22f-6a52a4ff2f03",
     "showTitle": false,
     "title": ""
    }
   },
   "outputs": [],
   "source": [
    "# TODO 5:\n",
    "# checkpoint_directory_silver = f'{DA.paths.checkpoints}/silver'\n",
    "# query_silver = (spark.table('bronze_enhanced_temp')\n",
    "#          .writeStream.format('delta')\n",
    "#          .option('checkpointLocation', checkpoint_directory_silver)\n",
    "#          .outputMode('append')\n",
    "#          .table('silver')\n",
    "#         )\n",
    "\n",
    "checkpoint_directory_gold = f'{DA.paths.checkpoints}/gold_customer_count_by_state'\n",
    "query_gold = (spark.table('customer_count_temp')\n",
    "         .writeStream.format('delta')\n",
    "         .option('checkpointLocation', checkpoint_directory_gold)\n",
    "         .outputMode('complete')\n",
    "         .table('gold_customer_count_by_state')\n",
    "        )"
   ]
  },
  {
   "cell_type": "code",
   "execution_count": 0,
   "metadata": {
    "application/vnd.databricks.v1+cell": {
     "cellMetadata": {
      "byteLimit": 2048000,
      "rowLimit": 10000
     },
     "inputWidgets": {},
     "nuid": "853b65f6-afa4-43a8-b014-3d11115b02a0",
     "showTitle": false,
     "title": ""
    }
   },
   "outputs": [
    {
     "output_type": "stream",
     "name": "stdout",
     "output_type": "stream",
     "text": [
      "The stream has processed 4 batchs\n"
     ]
    }
   ],
   "source": [
    "DA.block_until_stream_is_ready(query)"
   ]
  },
  {
   "cell_type": "markdown",
   "metadata": {
    "application/vnd.databricks.v1+cell": {
     "cellMetadata": {
      "byteLimit": 2048000,
      "rowLimit": 10000
     },
     "inputWidgets": {},
     "nuid": "ca186f2a-62ff-4b1f-be75-936190dbd058",
     "showTitle": false,
     "title": ""
    }
   },
   "source": [
    "#### 5.0. Query the Results\n",
    "Query the **`gold_customer_count_by_state`** table (this will not be a streaming query). Plot the results as a bar graph and also using the map plot."
   ]
  },
  {
   "cell_type": "code",
   "execution_count": 0,
   "metadata": {
    "application/vnd.databricks.v1+cell": {
     "cellMetadata": {
      "byteLimit": 2048000,
      "implicitDf": true,
      "rowLimit": 10000
     },
     "inputWidgets": {},
     "nuid": "12a846b2-8a76-4c20-accc-8a350befa08f",
     "showTitle": false,
     "title": ""
    }
   },
   "outputs": [
    {
     "output_type": "display_data",
     "data": {
      "text/html": [
       "<style scoped>\n",
       "  .table-result-container {\n",
       "    max-height: 300px;\n",
       "    overflow: auto;\n",
       "  }\n",
       "  table, th, td {\n",
       "    border: 1px solid black;\n",
       "    border-collapse: collapse;\n",
       "  }\n",
       "  th, td {\n",
       "    padding: 5px;\n",
       "  }\n",
       "  th {\n",
       "    text-align: left;\n",
       "  }\n",
       "</style><div class='table-result-container'><table class='table-result'><thead style='background-color: white'><tr><th>state</th><th>customer_count</th></tr></thead><tbody><tr><td>MT</td><td>203</td></tr><tr><td>TX</td><td>567</td></tr><tr><td>NV</td><td>40</td></tr><tr><td>AR</td><td>11</td></tr><tr><td>NH</td><td>2</td></tr><tr><td>WI</td><td>992</td></tr><tr><td>VT</td><td>157</td></tr><tr><td>HI</td><td>65</td></tr><tr><td>UT</td><td>416</td></tr><tr><td>AL</td><td>65</td></tr><tr><td>RI</td><td>223</td></tr><tr><td>CO</td><td>720</td></tr><tr><td>FL</td><td>2525</td></tr><tr><td>PA</td><td>930</td></tr><tr><td>AK</td><td>37</td></tr><tr><td>MA</td><td>1889</td></tr><tr><td>OH</td><td>1914</td></tr><tr><td>WA</td><td>669</td></tr><tr><td>ND</td><td>61</td></tr><tr><td>ME</td><td>339</td></tr><tr><td>DE</td><td>37</td></tr><tr><td>MI</td><td>1090</td></tr><tr><td>NM</td><td>23</td></tr><tr><td>MS</td><td>18</td></tr><tr><td>MD</td><td>419</td></tr><tr><td>OR</td><td>427</td></tr><tr><td>NE</td><td>41</td></tr><tr><td>CT</td><td>7</td></tr><tr><td>IA</td><td>74</td></tr><tr><td>WV</td><td>5</td></tr><tr><td>NY</td><td>3417</td></tr><tr><td>MN</td><td>622</td></tr><tr><td>NC</td><td>1016</td></tr><tr><td>MO</td><td>507</td></tr><tr><td>VA</td><td>710</td></tr><tr><td>LA</td><td>111</td></tr><tr><td>WY</td><td>26</td></tr><tr><td>OK</td><td>30</td></tr><tr><td>KS</td><td>671</td></tr><tr><td>CA</td><td>2900</td></tr><tr><td>GA</td><td>256</td></tr><tr><td>DC</td><td>21</td></tr><tr><td>KY</td><td>95</td></tr><tr><td>IN</td><td>1105</td></tr><tr><td>IL</td><td>876</td></tr><tr><td>SD</td><td>26</td></tr><tr><td>TN</td><td>140</td></tr><tr><td>NJ</td><td>1503</td></tr><tr><td>SC</td><td>173</td></tr><tr><td>ID</td><td>32</td></tr><tr><td>AZ</td><td>600</td></tr></tbody></table></div>"
      ]
     },
     "metadata": {
      "application/vnd.databricks.v1+output": {
       "addedWidgets": {},
       "aggData": [],
       "aggError": "",
       "aggOverflow": false,
       "aggSchema": [],
       "aggSeriesLimitReached": false,
       "aggType": "",
       "arguments": {},
       "columnCustomDisplayInfos": {},
       "data": [
        [
         "MT",
         203
        ],
        [
         "TX",
         567
        ],
        [
         "NV",
         40
        ],
        [
         "AR",
         11
        ],
        [
         "NH",
         2
        ],
        [
         "WI",
         992
        ],
        [
         "VT",
         157
        ],
        [
         "HI",
         65
        ],
        [
         "UT",
         416
        ],
        [
         "AL",
         65
        ],
        [
         "RI",
         223
        ],
        [
         "CO",
         720
        ],
        [
         "FL",
         2525
        ],
        [
         "PA",
         930
        ],
        [
         "AK",
         37
        ],
        [
         "MA",
         1889
        ],
        [
         "OH",
         1914
        ],
        [
         "WA",
         669
        ],
        [
         "ND",
         61
        ],
        [
         "ME",
         339
        ],
        [
         "DE",
         37
        ],
        [
         "MI",
         1090
        ],
        [
         "NM",
         23
        ],
        [
         "MS",
         18
        ],
        [
         "MD",
         419
        ],
        [
         "OR",
         427
        ],
        [
         "NE",
         41
        ],
        [
         "CT",
         7
        ],
        [
         "IA",
         74
        ],
        [
         "WV",
         5
        ],
        [
         "NY",
         3417
        ],
        [
         "MN",
         622
        ],
        [
         "NC",
         1016
        ],
        [
         "MO",
         507
        ],
        [
         "VA",
         710
        ],
        [
         "LA",
         111
        ],
        [
         "WY",
         26
        ],
        [
         "OK",
         30
        ],
        [
         "KS",
         671
        ],
        [
         "CA",
         2900
        ],
        [
         "GA",
         256
        ],
        [
         "DC",
         21
        ],
        [
         "KY",
         95
        ],
        [
         "IN",
         1105
        ],
        [
         "IL",
         876
        ],
        [
         "SD",
         26
        ],
        [
         "TN",
         140
        ],
        [
         "NJ",
         1503
        ],
        [
         "SC",
         173
        ],
        [
         "ID",
         32
        ],
        [
         "AZ",
         600
        ]
       ],
       "datasetInfos": [],
       "dbfsResultPath": null,
       "isJsonSchema": true,
       "metadata": {},
       "overflow": false,
       "plotOptions": {
        "customPlotOptions": {},
        "displayType": "table",
        "pivotAggregation": null,
        "pivotColumns": null,
        "xColumns": null,
        "yColumns": null
       },
       "removedWidgets": [],
       "schema": [
        {
         "metadata": "{}",
         "name": "state",
         "type": "\"string\""
        },
        {
         "metadata": "{}",
         "name": "customer_count",
         "type": "\"long\""
        }
       ],
       "type": "table"
      }
     },
     "output_type": "display_data"
    },
    {
     "output_type": "display_data",
     "data": {
      "text/plain": [
       "Databricks visualization. Run in Databricks to view."
      ]
     },
     "metadata": {
      "application/vnd.databricks.v1.subcommand+json": {
       "bindings": {},
       "collapsed": false,
       "command": "%sql WITH q AS (SELECT * FROM gold_customer_count_by_state) SELECT `state`,SUM(`customer_count`) `column_4eba7634140`,`state` FROM q GROUP BY `state`",
       "commandTitle": "Bar Graph",
       "commandType": "auto",
       "commandVersion": 0,
       "commentThread": [],
       "commentsVisible": false,
       "contentSha256Hex": null,
       "customPlotOptions": {
        "redashChart": [
         {
          "key": "type",
          "value": "CHART"
         },
         {
          "key": "options",
          "value": {
           "alignYAxesAtZero": true,
           "coefficient": 1,
           "columnConfigurationMap": {
            "series": {
             "column": "state",
             "id": "column_4eba7634143"
            },
            "x": {
             "column": "state",
             "id": "column_4eba7634137"
            },
            "y": [
             {
              "column": "customer_count",
              "id": "column_4eba7634140",
              "transform": "SUM"
             }
            ]
           },
           "dateTimeFormat": "DD/MM/YYYY HH:mm",
           "direction": {
            "type": "counterclockwise"
           },
           "error_y": {
            "type": "data",
            "visible": true
           },
           "globalSeriesType": "column",
           "isAggregationOn": true,
           "legend": {
            "traceorder": "normal"
           },
           "missingValuesAsZero": true,
           "numberFormat": "0,0[.]00000",
           "percentFormat": "0[.]00%",
           "series": {
            "error_y": {
             "type": "data",
             "visible": true
            },
            "stacking": null
           },
           "seriesOptions": {
            "column_4eba7634140": {
             "type": "column",
             "yAxis": 0
            }
           },
           "showDataLabels": false,
           "sizemode": "diameter",
           "sortX": true,
           "sortY": true,
           "swappedAxes": false,
           "textFormat": "",
           "useAggregationsUi": true,
           "valuesOptions": {},
           "version": 2,
           "xAxis": {
            "labels": {
             "enabled": true
            },
            "type": "-"
           },
           "yAxis": [
            {
             "type": "-"
            },
            {
             "opposite": true,
             "type": "-"
            }
           ]
          }
         }
        ]
       },
       "datasetPreviewNameToCmdIdMap": {},
       "diffDeletes": [],
       "diffInserts": [],
       "displayType": "redashChart",
       "error": null,
       "errorSummary": null,
       "errorTraceType": null,
       "finishTime": 0,
       "globalVars": {},
       "guid": "",
       "height": "auto",
       "hideCommandCode": false,
       "hideCommandResult": false,
       "iPythonMetadata": null,
       "inputWidgets": {},
       "isLockedInExamMode": false,
       "latestUser": "a user",
       "latestUserId": null,
       "listResultMetadata": null,
       "metadata": {},
       "nuid": "85473701-27ba-41ff-a9c2-fa92a14cdba2",
       "origId": 0,
       "parentHierarchy": [],
       "pivotAggregation": null,
       "pivotColumns": null,
       "position": 25.0,
       "resultDbfsErrorMessage": null,
       "resultDbfsStatus": "INLINED_IN_TREE",
       "results": null,
       "showCommandTitle": false,
       "startTime": 0,
       "state": "input",
       "streamStates": {},
       "subcommandOptions": {
        "queryPlan": {
         "groups": [
          {
           "column": "state",
           "type": "column"
          },
          {
           "column": "state",
           "type": "column"
          }
         ],
         "selects": [
          {
           "column": "state",
           "type": "column"
          },
          {
           "alias": "column_4eba7634140",
           "args": [
            {
             "column": "customer_count",
             "type": "column"
            }
           ],
           "function": "SUM",
           "type": "function"
          },
          {
           "column": "state",
           "type": "column"
          }
         ]
        }
       },
       "submitTime": 0,
       "subtype": "tableResultSubCmd.visualization",
       "tableResultIndex": 0,
       "useConsistentColors": false,
       "version": "CommandV1",
       "width": "auto",
       "workflows": [],
       "xColumns": null,
       "yColumns": null
      }
     },
     "output_type": "display_data"
    },
    {
     "output_type": "display_data",
     "data": {
      "text/plain": [
       "Databricks visualization. Run in Databricks to view."
      ]
     },
     "metadata": {
      "application/vnd.databricks.v1.subcommand+json": {
       "bindings": {},
       "collapsed": false,
       "command": "%sql\nSELECT * FROM gold_customer_count_by_state",
       "commandTitle": "Visualization 1",
       "commandType": "auto",
       "commandVersion": 0,
       "commentThread": [],
       "commentsVisible": false,
       "contentSha256Hex": null,
       "customPlotOptions": {
        "redashChart": [
         {
          "key": "type",
          "value": "CHOROPLETH"
         },
         {
          "key": "options",
          "value": {
           "clusteringMode": "e",
           "colors": {
            "background": "#ffffff",
            "borders": "#ffffff",
            "max": "#002FB4",
            "min": "#799CFF",
            "noValue": "#dddddd"
           },
           "keyColumn": "state",
           "legend": {
            "alignText": "right",
            "position": "bottom-left",
            "visible": true
           },
           "mapType": "usa",
           "noValuePlaceholder": "N/A",
           "popup": {
            "enabled": true,
            "template": "Region: <b>{{ @@name }}</b>\n<br>\nValue: <b>{{ @@value }}</b>"
           },
           "steps": 5,
           "targetField": "usps_abbrev",
           "tooltip": {
            "enabled": true,
            "template": "<b>{{ @@name }}</b>: {{ @@value }}"
           },
           "valueColumn": "customer_count",
           "valueFormat": "0,0.00"
          }
         }
        ]
       },
       "datasetPreviewNameToCmdIdMap": {},
       "diffDeletes": [],
       "diffInserts": [],
       "displayType": "redashChart",
       "error": null,
       "errorSummary": null,
       "errorTraceType": null,
       "finishTime": 0,
       "globalVars": {},
       "guid": "",
       "height": "auto",
       "hideCommandCode": false,
       "hideCommandResult": false,
       "iPythonMetadata": null,
       "inputWidgets": {},
       "isLockedInExamMode": false,
       "latestUser": "a user",
       "latestUserId": null,
       "listResultMetadata": null,
       "metadata": {},
       "nuid": "91d5eda7-11ed-41aa-9145-d47ed0995712",
       "origId": 0,
       "parentHierarchy": [],
       "pivotAggregation": null,
       "pivotColumns": null,
       "position": 26.0,
       "resultDbfsErrorMessage": null,
       "resultDbfsStatus": "INLINED_IN_TREE",
       "results": null,
       "showCommandTitle": false,
       "startTime": 0,
       "state": "input",
       "streamStates": {},
       "subcommandOptions": {},
       "submitTime": 0,
       "subtype": "tableResultSubCmd.visualization",
       "tableResultIndex": 0,
       "useConsistentColors": false,
       "version": "CommandV1",
       "width": "auto",
       "workflows": [],
       "xColumns": null,
       "yColumns": null
      }
     },
     "output_type": "display_data"
    }
   ],
   "source": [
    "%sql\n",
    "SELECT * FROM gold_customer_count_by_state"
   ]
  },
  {
   "cell_type": "markdown",
   "metadata": {
    "application/vnd.databricks.v1+cell": {
     "cellMetadata": {
      "byteLimit": 2048000,
      "rowLimit": 10000
     },
     "inputWidgets": {},
     "nuid": "90cbf4de-2269-4a8a-9d23-be8128621149",
     "showTitle": false,
     "title": ""
    }
   },
   "source": [
    "#### 6.0. Clean Up\n",
    "Run the following cell to remove the database and all data associated with this lab."
   ]
  },
  {
   "cell_type": "code",
   "execution_count": 0,
   "metadata": {
    "application/vnd.databricks.v1+cell": {
     "cellMetadata": {
      "byteLimit": 2048000,
      "rowLimit": 10000
     },
     "inputWidgets": {},
     "nuid": "2633ccc7-cde5-4fd1-8351-268d39b8d97e",
     "showTitle": false,
     "title": ""
    }
   },
   "outputs": [
    {
     "output_type": "display_data",
     "data": {
      "text/plain": [
       ""
      ]
     },
     "metadata": {
      "application/vnd.databricks.v1+output": {
       "arguments": {},
       "data": "",
       "errorSummary": "Command skipped",
       "errorTraceType": "ansi",
       "metadata": {},
       "type": "ipynbError"
      }
     },
     "output_type": "display_data"
    }
   ],
   "source": [
    "DA.cleanup()"
   ]
  },
  {
   "cell_type": "markdown",
   "metadata": {
    "application/vnd.databricks.v1+cell": {
     "cellMetadata": {
      "byteLimit": 2048000,
      "rowLimit": 10000
     },
     "inputWidgets": {},
     "nuid": "27599803-99c9-411d-bb91-1f12d0c8a214",
     "showTitle": false,
     "title": ""
    }
   },
   "source": [
    "By completing this lab, you should now feel comfortable:\n",
    "* Using PySpark to configure Auto Loader for incremental data ingestion\n",
    "* Using Spark SQL to aggregate streaming data\n",
    "* Streaming data to a Delta table"
   ]
  }
 ],
 "metadata": {
  "application/vnd.databricks.v1+notebook": {
   "dashboards": [],
   "language": "python",
   "notebookMetadata": {
    "mostRecentlyExecutedCommandWithImplicitDF": {
     "commandId": 3909265934102954,
     "dataframes": [
      "_sqldf"
     ]
    },
    "pythonIndentUnit": 4
   },
   "notebookName": "5.1-Lab-Incremental-Updates-with-Structured-Streaming-and-Delta-Lake",
   "widgets": {}
  }
 },
 "nbformat": 4,
 "nbformat_minor": 0
}
